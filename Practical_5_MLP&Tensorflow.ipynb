{
  "nbformat": 4,
  "nbformat_minor": 0,
  "metadata": {
    "kernelspec": {
      "display_name": "Python 3",
      "language": "python",
      "name": "python3"
    },
    "language_info": {
      "codemirror_mode": {
        "name": "ipython",
        "version": 3
      },
      "file_extension": ".py",
      "mimetype": "text/x-python",
      "name": "python",
      "nbconvert_exporter": "python",
      "pygments_lexer": "ipython3",
      "version": "3.6.8"
    },
    "colab": {
      "provenance": [],
      "include_colab_link": true
    }
  },
  "cells": [
    {
      "cell_type": "markdown",
      "metadata": {
        "id": "view-in-github",
        "colab_type": "text"
      },
      "source": [
        "<a href=\"https://colab.research.google.com/github/urvashiverma2608/Projectsecure/blob/master/Practical_5_MLP%26Tensorflow.ipynb\" target=\"_parent\"><img src=\"https://colab.research.google.com/assets/colab-badge.svg\" alt=\"Open In Colab\"/></a>"
      ]
    },
    {
      "cell_type": "markdown",
      "metadata": {
        "id": "pC_My_TCs0Lz"
      },
      "source": [
        "# A first look at artificial neural networks\n",
        "\n",
        "## Artificial Neural Networks\n",
        "\n",
        "Artificial Neural Networks (ANNs) are computational processing systems that are heavily inspired by the way biological nervous systems function. The basic structure of an ANN can be visually conceptualised like:\n",
        "\n",
        "<a title=\"Glosser.ca, CC BY-SA 3.0 &lt;https://creativecommons.org/licenses/by-sa/3.0&gt;, via Wikimedia Commons\" href=\"https://commons.wikimedia.org/wiki/File:Colored_neural_network.svg\"><img width=\"256\" alt=\"Colored neural network\" src=\"https://upload.wikimedia.org/wikipedia/commons/thumb/4/46/Colored_neural_network.svg/256px-Colored_neural_network.svg.png\"></a>\n",
        "\n",
        "**Figure 1:** A simple three layered fully connected feedforward neural network (FNN), aka Multi-layer perceptrons (MLPs),comprisedof a input layer, a hidden layer and an output layer.\n",
        "\n"
      ]
    },
    {
      "cell_type": "markdown",
      "metadata": {
        "id": "sjhFVOzTs0L9"
      },
      "source": [
        "## Neural network modelling frameworks\n",
        "\n",
        "#### Tensorflow and Keras \n",
        "Keras (https://keras.io) is a highlevel and easy-to-use API built on top of Tensorflow (https://www.tensorflow.org) for developing and evaluating deep learning models. It was developed with a focus on enabling fast experimentation. \n",
        "\n",
        "In this worksheet, you will learn how to create a neural network using Tensorflow Keras API. \n",
        "\n",
        "Neural network models are trained by gradient descent. As we perform computations, Tensorflow memorises the computation graph that we build up. When it comes to compute the gradient, tensorflow can trace back over the computation graph (using the backpropagation algorithm) and work out all the required gradients (handled in TensorFlow via the [GradientTape](https://www.tensorflow.org/api_docs/python/tf/GradientTape) object). \n",
        "\n",
        "When we build models with Keras, we don't usually have to worry about low level computation. High-level deep learning concepts translate to Keras APIs:\n",
        "\n",
        "- **Layers**, which are combined into a model A loss function, which defines the feedback signal used for learning\n",
        "- An **optimizer**, which determines how learning proceeds Metrics to evaluate model performance, such as accuracy\n",
        "- A training loop that performs **mini-batch** stochastic gradient descent\n",
        "\n",
        "Colab has got Tensorflow installed already. It is recommended to run this notebooke using Colab (https://colab.research.google.com/), or on your own computer after proper libraries including Tensorflow has been installed. In case you use Anaconda or miniconda and haven't got installed Tensorflow yet, you can do it following the instruction here:\n",
        "https://docs.anaconda.com/anaconda/user-guide/tasks/tensorflow/\n",
        "\n",
        "If you are not sure if you have got a suitable GPU, you can start with installing Tensorflow for CPU only.\n",
        "\n",
        "If you have trouble installing Tensorflow in your computer, or your computer does not have sufficient computational power, it would be easier to switch to Colab, or Kaggle kernel, or use some virtual machine in the cloud, where better computational resources (for RAM, CPU, GPU) are available. "
      ]
    },
    {
      "cell_type": "code",
      "metadata": {
        "id": "J4B06ZDAs0L9",
        "outputId": "fec62b60-aec5-4a4c-87b5-8f4bb2842929",
        "colab": {
          "base_uri": "https://localhost:8080/"
        }
      },
      "source": [
        "# Import tensorflow, check version\n",
        "import tensorflow as tf\n",
        "from tensorflow import keras\n",
        "print(tf.__version__)"
      ],
      "execution_count": 1,
      "outputs": [
        {
          "output_type": "stream",
          "name": "stdout",
          "text": [
            "2.11.0\n"
          ]
        }
      ]
    },
    {
      "cell_type": "markdown",
      "metadata": {
        "id": "t27Ccl11IyIU"
      },
      "source": [
        "### Tensor\n",
        "In general, all current machine-learning systems use tensors as their basic data structure — usually for numerical data. \n",
        "\n",
        "Tensors are a generalization of matrices to an arbitrary number of dimensions (note that a dimension is often called an axis in a tensor). NumPy arrays can be called tensors.\n",
        "\n",
        "* Scalar (rank-0 tensor).\n",
        "* Vectors (rank-1 tensor).\n",
        "* Matrices: rank-2 tensors.\n",
        "* Rank-3 tensors and higher-rank tensors (e.g. array x below are Rank-3 tensors)"
      ]
    },
    {
      "cell_type": "code",
      "metadata": {
        "id": "uMuSjBg2LO7m",
        "outputId": "0f02b29a-ea30-4808-f4d9-86b80abb6c8e",
        "colab": {
          "base_uri": "https://localhost:8080/"
        }
      },
      "source": [
        "import numpy as np\n",
        "x = np.array([[[5, 78, 2, 34, 0],\n",
        "                   [6, 79, 3, 35, 1],\n",
        "                   [7, 80, 4, 36, 2]],\n",
        "                  [[5, 78, 2, 34, 0],\n",
        "                   [6, 79, 3, 35, 1],\n",
        "                   [7, 80, 4, 36, 2]],\n",
        "                  [[5, 78, 2, 34, 0],\n",
        "                   [6, 79, 3, 35, 1],\n",
        "                   [7, 80, 4, 36, 2]]])\n",
        "print(x.ndim)\n",
        "print(x.shape)"
      ],
      "execution_count": 2,
      "outputs": [
        {
          "output_type": "stream",
          "name": "stdout",
          "text": [
            "3\n",
            "(3, 3, 5)\n"
          ]
        }
      ]
    },
    {
      "cell_type": "code",
      "source": [
        "# Constant tensors (Not assignable!!)\n",
        "# All ones/zero tensors\n",
        "x = tf.ones(shape=(2, 1))\n",
        "print(x)\n",
        "x = tf.zeros(shape=(2, 1))\n",
        "print(x)\n",
        "\n",
        "# Random tensors\n",
        "x = tf.random.normal(shape=(3, 1), mean=0., stddev=1.) \n",
        "print(x)\n",
        "\n",
        "x = tf.random.uniform(shape=(3, 1), minval=-1., maxval=1.) \n",
        "print(x)\n",
        "\n",
        "x = 0 # Scalar\n",
        "print(x)"
      ],
      "metadata": {
        "id": "6n9R6Hhnho6r",
        "outputId": "e0e032e2-eec3-44cf-c03a-fad6497877ab",
        "colab": {
          "base_uri": "https://localhost:8080/"
        }
      },
      "execution_count": 3,
      "outputs": [
        {
          "output_type": "stream",
          "name": "stdout",
          "text": [
            "tf.Tensor(\n",
            "[[1.]\n",
            " [1.]], shape=(2, 1), dtype=float32)\n",
            "tf.Tensor(\n",
            "[[0.]\n",
            " [0.]], shape=(2, 1), dtype=float32)\n",
            "tf.Tensor(\n",
            "[[-0.9910324 ]\n",
            " [-0.5803139 ]\n",
            " [-0.31725842]], shape=(3, 1), dtype=float32)\n",
            "tf.Tensor(\n",
            "[[ 0.03885031]\n",
            " [-0.03883076]\n",
            " [ 0.78194594]], shape=(3, 1), dtype=float32)\n",
            "0\n"
          ]
        }
      ]
    },
    {
      "cell_type": "code",
      "source": [
        "# Unlike numpy array, tensor constant is not assignable.\n",
        "# see e.g. error raised when trying to assign a value to tensor constant\n",
        "import numpy as np\n",
        "x = np.ones(shape=(2, 2))\n",
        "x[0, 0] = 0.\n",
        "\n",
        "x = tf.ones(shape=(2,2))\n",
        "x[0, 0] = 0."
      ],
      "metadata": {
        "id": "mMmqo54dhsDV",
        "outputId": "183e976e-a250-4fbb-8b9d-dbdf1e677e36",
        "colab": {
          "base_uri": "https://localhost:8080/",
          "height": 204
        }
      },
      "execution_count": 4,
      "outputs": [
        {
          "output_type": "error",
          "ename": "TypeError",
          "evalue": "ignored",
          "traceback": [
            "\u001b[0;31m---------------------------------------------------------------------------\u001b[0m",
            "\u001b[0;31mTypeError\u001b[0m                                 Traceback (most recent call last)",
            "\u001b[0;32m<ipython-input-4-6998f1daac4a>\u001b[0m in \u001b[0;36m<module>\u001b[0;34m\u001b[0m\n\u001b[1;32m      6\u001b[0m \u001b[0;34m\u001b[0m\u001b[0m\n\u001b[1;32m      7\u001b[0m \u001b[0mx\u001b[0m \u001b[0;34m=\u001b[0m \u001b[0mtf\u001b[0m\u001b[0;34m.\u001b[0m\u001b[0mones\u001b[0m\u001b[0;34m(\u001b[0m\u001b[0mshape\u001b[0m\u001b[0;34m=\u001b[0m\u001b[0;34m(\u001b[0m\u001b[0;36m2\u001b[0m\u001b[0;34m,\u001b[0m\u001b[0;36m2\u001b[0m\u001b[0;34m)\u001b[0m\u001b[0;34m)\u001b[0m\u001b[0;34m\u001b[0m\u001b[0;34m\u001b[0m\u001b[0m\n\u001b[0;32m----> 8\u001b[0;31m \u001b[0mx\u001b[0m\u001b[0;34m[\u001b[0m\u001b[0;36m0\u001b[0m\u001b[0;34m,\u001b[0m \u001b[0;36m0\u001b[0m\u001b[0;34m]\u001b[0m \u001b[0;34m=\u001b[0m \u001b[0;36m0.\u001b[0m\u001b[0;34m\u001b[0m\u001b[0;34m\u001b[0m\u001b[0m\n\u001b[0m",
            "\u001b[0;31mTypeError\u001b[0m: 'tensorflow.python.framework.ops.EagerTensor' object does not support item assignment"
          ]
        }
      ]
    },
    {
      "cell_type": "code",
      "source": [
        "# To modify tensors, tensor Variabble is used in tensorflow\n",
        "v = tf.Variable(initial_value=tf.random.normal(shape=(3, 1)))\n",
        "print(v)\n",
        "\n",
        "# Assign values to a tensor variable\n",
        "v.assign(tf.ones((3, 1)))\n",
        "print(v)\n",
        "\n",
        "# Modify element with index [0,0] in tensor variable v to 0\n",
        "# Your code here\n",
        "#"
      ],
      "metadata": {
        "id": "vkaaoC0Ohswi",
        "outputId": "367dc14a-0e3a-40cc-b412-fe71414edd8f",
        "colab": {
          "base_uri": "https://localhost:8080/"
        }
      },
      "execution_count": 5,
      "outputs": [
        {
          "output_type": "stream",
          "name": "stdout",
          "text": [
            "<tf.Variable 'Variable:0' shape=(3, 1) dtype=float32, numpy=\n",
            "array([[ 1.2821914 ],\n",
            "       [ 0.55357665],\n",
            "       [-0.03057514]], dtype=float32)>\n",
            "<tf.Variable 'Variable:0' shape=(3, 1) dtype=float32, numpy=\n",
            "array([[1.],\n",
            "       [1.],\n",
            "       [1.]], dtype=float32)>\n"
          ]
        }
      ]
    },
    {
      "cell_type": "code",
      "source": [],
      "metadata": {
        "id": "gO-76xkZhvrl"
      },
      "execution_count": null,
      "outputs": []
    },
    {
      "cell_type": "markdown",
      "metadata": {
        "id": "90Jl1oeVs0L-"
      },
      "source": [
        "## MNIST"
      ]
    },
    {
      "cell_type": "markdown",
      "metadata": {
        "id": "kDewRWb3s0L-"
      },
      "source": [
        " The MNIST database of handwritten digits, available from this page, has a training set of 60,000 examples, and a test set of 10,000 examples. It is a subset of a larger set available from NIST. The digits have been size-normalized and centered in a fixed-size image. The MNIST data-set is about 12 MB and will be downloaded automatically if it is not located in the given path."
      ]
    },
    {
      "cell_type": "code",
      "metadata": {
        "id": "Wd9z5PCXs0L_",
        "outputId": "cfa44112-e592-4571-a894-f87e12908695",
        "colab": {
          "base_uri": "https://localhost:8080/"
        }
      },
      "source": [
        "from tensorflow.keras.datasets import mnist\n",
        "\n",
        "(image_train, label_train), (image_test, label_test) = mnist.load_data()\n",
        "\n",
        "print(\"Size of:\")\n",
        "print(\"- Training-set:\\t\\t{}\".format(image_train.shape))\n",
        "print(\"- Test-set:\\t\\t{}\".format(image_test.shape))"
      ],
      "execution_count": 6,
      "outputs": [
        {
          "output_type": "stream",
          "name": "stdout",
          "text": [
            "Downloading data from https://storage.googleapis.com/tensorflow/tf-keras-datasets/mnist.npz\n",
            "11490434/11490434 [==============================] - 0s 0us/step\n",
            "Size of:\n",
            "- Training-set:\t\t(60000, 28, 28)\n",
            "- Test-set:\t\t(10000, 28, 28)\n"
          ]
        }
      ]
    },
    {
      "cell_type": "code",
      "metadata": {
        "id": "DX9dkWEhzuGG",
        "outputId": "65b8873c-d39a-4816-b2ab-a94380f7ca5b",
        "colab": {
          "base_uri": "https://localhost:8080/"
        }
      },
      "source": [
        "# Your code: \n",
        "# print label_train, print its shape\n",
        "from tensorflow.keras.datasets import mnist\n",
        "\n",
        "(image_train, label_train), (image_test, label_test) = mnist.load_data()\n",
        "\n",
        "print(\"Size of:\")\n",
        "print(\"- Training-set:\\t\\t{}\".format(label_train))\n",
        "print(\"- Test-set:\\t\\t{}\".format(label_train.shape))\n"
      ],
      "execution_count": 8,
      "outputs": [
        {
          "output_type": "stream",
          "name": "stdout",
          "text": [
            "Size of:\n",
            "- Training-set:\t\t[5 0 4 ... 5 6 8]\n",
            "- Test-set:\t\t(60000,)\n"
          ]
        }
      ]
    },
    {
      "cell_type": "markdown",
      "metadata": {
        "id": "OmjT6wLWs0L_"
      },
      "source": [
        "The data-set is split into 3 mutually exclusive sub-sets. We will only use the training and test-sets in this tutorial.\n",
        "\n",
        "Define a simple function to have a look at the images."
      ]
    },
    {
      "cell_type": "markdown",
      "metadata": {
        "id": "3v9QakdAs0MA"
      },
      "source": [
        "## Getting to know our data"
      ]
    },
    {
      "cell_type": "markdown",
      "metadata": {
        "id": "4J3w9Otps0MA"
      },
      "source": [
        "The following method is plots 9 images from the dataset in a 3x3 grid."
      ]
    },
    {
      "cell_type": "code",
      "metadata": {
        "id": "cayq2d-hs0MA"
      },
      "source": [
        "import matplotlib.pyplot as plt\n",
        "\n",
        "def plot_images(images, cls_true, cls_pred=None):\n",
        "    assert len(images) == len(cls_true) == 9\n",
        "    \n",
        "    # Create figure with 3x3 sub-plots.\n",
        "    fig, axes = plt.subplots(3, 3)\n",
        "    fig.subplots_adjust(hspace=0.3, wspace=0.3)\n",
        "\n",
        "    for i, ax in enumerate(axes.flat):\n",
        "        # Plot image.\n",
        "        #ax.imshow(images[i].reshape(img_shape), cmap='binary')\n",
        "        ax.imshow(images[i], cmap='binary')\n",
        "\n",
        "        # Show true and predicted classes.\n",
        "        if cls_pred is None:\n",
        "            xlabel = \"True: {0}\".format(cls_true[i])\n",
        "        else:\n",
        "            xlabel = \"True: {0}, Pred: {1}\".format(cls_true[i], cls_pred[i])\n",
        "\n",
        "        ax.set_xlabel(xlabel)\n",
        "        \n",
        "        # Remove ticks from the plot.\n",
        "        ax.set_xticks([])\n",
        "        ax.set_yticks([])\n",
        "        \n",
        "    # Ensure the plot is shown correctly with multiple plots\n",
        "    # in a single Notebook cell.\n",
        "    plt.show()"
      ],
      "execution_count": 9,
      "outputs": []
    },
    {
      "cell_type": "markdown",
      "metadata": {
        "id": "LXNBketEs0MB"
      },
      "source": [
        "Plot a few images to see if data is correct"
      ]
    },
    {
      "cell_type": "code",
      "metadata": {
        "id": "VeRYW7las0MC",
        "outputId": "e2402f97-c041-4b11-b75e-52a74bf15065",
        "colab": {
          "base_uri": "https://localhost:8080/",
          "height": 266
        }
      },
      "source": [
        "# We know that MNIST images are 28 pixels in each dimension.\n",
        "img_size = 28\n",
        "\n",
        "# Images are stored in one-dimensional arrays of this length. (might want to use this later for input_size...)\n",
        "img_size_flat = img_size * img_size\n",
        "\n",
        "# Tuple with height and width of images used to reshape arrays.\n",
        "img_shape = (img_size, img_size)\n",
        "\n",
        "# Number of classes, one class for each of 10 digits.\n",
        "num_classes = 10\n",
        "\n",
        "# Get the first images from the test-set.\n",
        "images = image_train[0:9]\n",
        "\n",
        "# Get the true classes for those images.\n",
        "cls_true = label_train[0:9]\n",
        "\n",
        "# Plot the images and labels using our helper-function above.\n",
        "plot_images(images=images, cls_true=cls_true)"
      ],
      "execution_count": 10,
      "outputs": [
        {
          "output_type": "display_data",
          "data": {
            "text/plain": [
              "<Figure size 432x288 with 9 Axes>"
            ],
            "image/png": "[encoded data removed]"
          },
          "metadata": {}
        }
      ]
    },
    {
      "cell_type": "markdown",
      "metadata": {
        "id": "yN4Zjheps0MC"
      },
      "source": [
        "For this first network, we'll flatten everything into a 784-dimensional feature vector."
      ]
    },
    {
      "cell_type": "code",
      "metadata": {
        "id": "OHohqH6GbAnS",
        "outputId": "dfad9545-035d-4696-fa57-138c3ed6ed91",
        "colab": {
          "base_uri": "https://localhost:8080/"
        }
      },
      "source": [
        "# In general, you may select between any two indices along each tensor axis. \n",
        "# For instance, in order to select 14 × 14 pixels in the bottom-right corner for image with index 10, you do this:\n",
        "my_slice = image_train[10, 14:, 14:]\n",
        "print(my_slice.shape)\n",
        "my_slice"
      ],
      "execution_count": 11,
      "outputs": [
        {
          "output_type": "stream",
          "name": "stdout",
          "text": [
            "(14, 14)\n"
          ]
        },
        {
          "output_type": "execute_result",
          "data": {
            "text/plain": [
              "array([[254, 254, 254, 254, 171,   0,   0,   0,   0,   0,   0,   0,   0,\n",
              "          0],\n",
              "       [ 89,  93, 240, 254, 171,   0,   0,   0,   0,   0,   0,   0,   0,\n",
              "          0],\n",
              "       [  0,   1, 128, 254, 219,  31,   0,   0,   0,   0,   0,   0,   0,\n",
              "          0],\n",
              "       [  0,   7, 254, 254, 214,  28,   0,   0,   0,   0,   0,   0,   0,\n",
              "          0],\n",
              "       [  0, 138, 254, 254, 116,   0,   0,   0,   0,   0,   0,   0,   0,\n",
              "          0],\n",
              "       [ 25, 240, 254, 254,  34,   0,   0,   0,   0,   0,   0,   0,   0,\n",
              "          0],\n",
              "       [206, 254, 254, 139,   8,   0,   0,   0,   0,   0,   0,   0,   0,\n",
              "          0],\n",
              "       [254, 253, 213,  11,   0,   0,   0,   0,   0,   0,   0,   0,   0,\n",
              "          0],\n",
              "       [254, 236,   0,   0,   0,   0,   0,   0,   0,   0,   0,   0,   0,\n",
              "          0],\n",
              "       [239,  50,   0,   0,   0,   0,   0,   0,   0,   0,   0,   0,   0,\n",
              "          0],\n",
              "       [  0,   0,   0,   0,   0,   0,   0,   0,   0,   0,   0,   0,   0,\n",
              "          0],\n",
              "       [  0,   0,   0,   0,   0,   0,   0,   0,   0,   0,   0,   0,   0,\n",
              "          0],\n",
              "       [  0,   0,   0,   0,   0,   0,   0,   0,   0,   0,   0,   0,   0,\n",
              "          0],\n",
              "       [  0,   0,   0,   0,   0,   0,   0,   0,   0,   0,   0,   0,   0,\n",
              "          0]], dtype=uint8)"
            ]
          },
          "metadata": {},
          "execution_count": 11
        }
      ]
    },
    {
      "cell_type": "markdown",
      "metadata": {
        "id": "PhGG9IsneAcM"
      },
      "source": [
        "The images we get were stored in an array of shape (60000, 28, 28) of type uint8 with values in the [0, 255] interval. We transform it into a float32 array of shape (60000, 28 * 28) with values between 0 and 1."
      ]
    },
    {
      "cell_type": "code",
      "metadata": {
        "id": "wSQnMZ7Js0MD",
        "outputId": "a7990c16-4959-4dd5-ad6e-3a00a7b77a21",
        "colab": {
          "base_uri": "https://localhost:8080/"
        }
      },
      "source": [
        "# Prepare data, flatten the input and rescale\n",
        "X_train = image_train.reshape((60000, 28*28)) # or #X_train = image_train.reshape(X_train.shape[0], -1)\n",
        "X_train = X_train.astype('float32')/255 \n",
        "X_test = image_test.reshape((10000, 28*28)) # or #X_test = image_test.reshape(X_test.shape[0], -1)\n",
        "X_test = X_test.astype('float32')/255\n",
        "\n",
        "print(\"Size of:\")\n",
        "print(\"- Training-set:\\t\\t{}\".format(X_train.shape))\n",
        "print(\"- Test-set:\\t\\t{}\".format(X_test.shape))"
      ],
      "execution_count": 12,
      "outputs": [
        {
          "output_type": "stream",
          "name": "stdout",
          "text": [
            "Size of:\n",
            "- Training-set:\t\t(60000, 784)\n",
            "- Test-set:\t\t(10000, 784)\n"
          ]
        }
      ]
    },
    {
      "cell_type": "markdown",
      "metadata": {
        "id": "XaNQwQt9s0MD"
      },
      "source": [
        "#### To build a fully connected feedforward network (aka Multilayer Perceptron (MLP))\n",
        "The first model we'll use is a simple fully connected feedforward network. This is called a Dense layer in Keras. -\n",
        "#### Dimensionality reduction with PCA\n",
        "Since fully connected layers are a bit heavy on image data (and you're probably running this on your laptop), we'll reduce the dimensionality of the data by [PCA (principal component analysis)](https://scikit-learn.org/stable/modules/generated/sklearn.decomposition.PCA.html). PCA decompose a multivariate dataset in a set of successive orthogonal components that explain a maximum amount of the variance. We will discuss topic on dimensionalilty reduction in a few weeks. "
      ]
    },
    {
      "cell_type": "code",
      "metadata": {
        "id": "dyyCAPaUs0MD",
        "outputId": "24250801-ad95-4b9c-e4bf-ce6ef07faa3d",
        "colab": {
          "base_uri": "https://localhost:8080/"
        }
      },
      "source": [
        "from sklearn.decomposition import PCA\n",
        "\n",
        "pca = PCA(n_components=60) # reduce to 60 dimensions\n",
        "pca.fit(X_train)\n",
        "\n",
        "X_train = pca.transform(X_train)\n",
        "X_test = pca.transform(X_test)\n",
        "\n",
        "print(X_train.shape) \n",
        "print(X_test.shape) # NB: none of this is Keras yet. We're just using sklearn on some numpy arrays"
      ],
      "execution_count": 13,
      "outputs": [
        {
          "output_type": "stream",
          "name": "stdout",
          "text": [
            "(60000, 60)\n",
            "(10000, 60)\n"
          ]
        }
      ]
    },
    {
      "cell_type": "markdown",
      "metadata": {
        "id": "qTAMootds0ME"
      },
      "source": [
        "The training labels are encoded as integers. We need these as one-hot vectors instead, so we can match them to the ten outputs of the neural network."
      ]
    },
    {
      "cell_type": "code",
      "metadata": {
        "id": "Q_nB-FCns0ME",
        "outputId": "a928d3ad-85b1-459a-d557-b40b560fc7ad",
        "colab": {
          "base_uri": "https://localhost:8080/"
        }
      },
      "source": [
        "from keras.utils import to_categorical\n",
        "\n",
        "print(label_train.shape, label_test.shape)\n",
        "\n",
        "y_train = to_categorical(label_train)\n",
        "y_test = to_categorical(label_test)\n",
        "\n",
        "print(y_train.shape, y_test.shape)"
      ],
      "execution_count": 14,
      "outputs": [
        {
          "output_type": "stream",
          "name": "stdout",
          "text": [
            "(60000,) (10000,)\n",
            "(60000, 10) (10000, 10)\n"
          ]
        }
      ]
    },
    {
      "cell_type": "markdown",
      "metadata": {
        "id": "tMyFcP_OxUrd"
      },
      "source": [
        "### Question: \n",
        "Look at the one-hot coding given by y_train[0], which digit does it represent?"
      ]
    },
    {
      "cell_type": "code",
      "metadata": {
        "id": "scpTWCx6s0ME",
        "outputId": "66c55e0c-35a7-4171-a60a-18412e1e704f",
        "colab": {
          "base_uri": "https://localhost:8080/"
        }
      },
      "source": [
        "print(y_train[0]) # print the one-hot vector for the first example"
      ],
      "execution_count": 15,
      "outputs": [
        {
          "output_type": "stream",
          "name": "stdout",
          "text": [
            "[0. 0. 0. 0. 0. 1. 0. 0. 0. 0.]\n"
          ]
        }
      ]
    },
    {
      "cell_type": "markdown",
      "source": [
        "1 represents a specific character. Each vector represents a unique image or text."
      ],
      "metadata": {
        "id": "YD6oFli7NHrZ"
      }
    },
    {
      "cell_type": "markdown",
      "metadata": {
        "id": "SjTdngnUs0ME"
      },
      "source": [
        "## Keras Model\n",
        "\n",
        "The core data structure of Keras is a model, a way to organize layers. The simplest type of model is the ```Sequential``` model, a linear stack of **layers**. Before we start take some time to read the ```Sequential``` documentation:\n",
        "\n",
        "https://keras.io/getting-started/sequential-model-guide/\n",
        "\n",
        "Note: Keras has two APIs for this: the **Sequential** API and the **Model** API. The sequential API (the simplest) assumes that your model is a simple sequence of operations, usually neural network layers. The input is passed through the first layer, the result of that is passed through the second and so on. \n",
        "\n",
        "This is useful for simple NN models where you are only interested in the input and output. If your model gets more complex, you may want to use the Model API (we'll use in the next practicals)."
      ]
    },
    {
      "cell_type": "markdown",
      "source": [
        "Now, creating a Sequential model. \n",
        "\n",
        "We can create a Sequential model incrementally via the add() method."
      ],
      "metadata": {
        "id": "XtoobyAIibrs"
      }
    },
    {
      "cell_type": "code",
      "metadata": {
        "id": "sGh7bopps0MF",
        "outputId": "5c42275a-52ef-4a59-c0dd-6a3bdb632784",
        "colab": {
          "base_uri": "https://localhost:8080/"
        }
      },
      "source": [
        "from keras.models import Sequential\n",
        "from keras import layers\n",
        "\n",
        "model = Sequential() # or specify model name: model = Sequential(name=\"my_first_model\")\n",
        "model.add(keras.Input(60)) # Input layer, input shape setup here should match with the input data when fitting or making prediction.\n",
        "model.add(layers.Dense(32, activation='relu'))#, input_shape=(60,))) # first dense layer, 32 hidden units,\n",
        "model.add(layers.Dense(10, activation='softmax'))# second dense layer, output class probabilities with softmax activation\n",
        "model.summary()"
      ],
      "execution_count": 16,
      "outputs": [
        {
          "output_type": "stream",
          "name": "stdout",
          "text": [
            "Model: \"sequential\"\n",
            "_________________________________________________________________\n",
            " Layer (type)                Output Shape              Param #   \n",
            "=================================================================\n",
            " dense (Dense)               (None, 32)                1952      \n",
            "                                                                 \n",
            " dense_1 (Dense)             (None, 10)                330       \n",
            "                                                                 \n",
            "=================================================================\n",
            "Total params: 2,282\n",
            "Trainable params: 2,282\n",
            "Non-trainable params: 0\n",
            "_________________________________________________________________\n"
          ]
        }
      ]
    },
    {
      "cell_type": "code",
      "source": [
        "# Check model weights\n",
        "model.weights"
      ],
      "metadata": {
        "id": "KrDASu5JMZ4A",
        "outputId": "3182a52d-6225-432c-ad40-a78ac828aa81",
        "colab": {
          "base_uri": "https://localhost:8080/"
        }
      },
      "execution_count": 17,
      "outputs": [
        {
          "output_type": "execute_result",
          "data": {
            "text/plain": [
              "[<tf.Variable 'dense/kernel:0' shape=(60, 32) dtype=float32, numpy=\n",
              " array([[-0.23327409, -0.23654169, -0.0344902 , ..., -0.24225828,\n",
              "          0.08780932, -0.00277522],\n",
              "        [ 0.08088124, -0.23825139, -0.05715048, ..., -0.2443361 ,\n",
              "          0.19643173,  0.12661603],\n",
              "        [ 0.19880003,  0.08700454,  0.07253787, ...,  0.04910555,\n",
              "          0.00488791,  0.04493523],\n",
              "        ...,\n",
              "        [-0.00919193, -0.19730824, -0.22901562, ...,  0.04817915,\n",
              "          0.15439895, -0.0252901 ],\n",
              "        [-0.21238938,  0.03626084,  0.15852469, ...,  0.21033236,\n",
              "         -0.09376666, -0.15883875],\n",
              "        [ 0.00723758, -0.16889313,  0.24843583, ..., -0.10890338,\n",
              "          0.08573559,  0.10682464]], dtype=float32)>,\n",
              " <tf.Variable 'dense/bias:0' shape=(32,) dtype=float32, numpy=\n",
              " array([0., 0., 0., 0., 0., 0., 0., 0., 0., 0., 0., 0., 0., 0., 0., 0., 0.,\n",
              "        0., 0., 0., 0., 0., 0., 0., 0., 0., 0., 0., 0., 0., 0., 0.],\n",
              "       dtype=float32)>,\n",
              " <tf.Variable 'dense_1/kernel:0' shape=(32, 10) dtype=float32, numpy=\n",
              " array([[-0.10937071, -0.01535115,  0.15019628, -0.33191735, -0.31988263,\n",
              "         -0.1513364 , -0.22280255,  0.02933103, -0.19818798, -0.06784323],\n",
              "        [-0.19629109,  0.27211568, -0.02085692,  0.09509775,  0.2166898 ,\n",
              "          0.32568684,  0.22598043,  0.03554854, -0.3439132 ,  0.26397696],\n",
              "        [ 0.2348195 , -0.08791471, -0.3553771 ,  0.2945139 ,  0.09399298,\n",
              "         -0.08204019, -0.33146614, -0.22573738, -0.17210744,  0.14960101],\n",
              "        [ 0.09609047,  0.26029477, -0.2150443 , -0.08910412, -0.24726546,\n",
              "         -0.2299702 ,  0.05994746,  0.06356001,  0.16962227,  0.25140747],\n",
              "        [ 0.3375059 ,  0.05275312,  0.3641123 , -0.0343391 , -0.2672033 ,\n",
              "         -0.09880811, -0.2806427 , -0.27936974, -0.18663485,  0.00380597],\n",
              "        [ 0.09152141, -0.00979969, -0.06817755,  0.05257064, -0.02268299,\n",
              "         -0.11882335, -0.02464285,  0.1576049 ,  0.14426479,  0.25498256],\n",
              "        [-0.25877696, -0.01917586, -0.36212417, -0.14099972,  0.14783582,\n",
              "          0.3110951 ,  0.23574552, -0.09466577, -0.34852314, -0.11954969],\n",
              "        [-0.25399336,  0.04238969, -0.37780955,  0.0956625 , -0.04707912,\n",
              "          0.12778482,  0.29120907,  0.01554418, -0.20325175,  0.15826496],\n",
              "        [ 0.3048822 ,  0.3502507 , -0.0713855 , -0.0508467 , -0.02308029,\n",
              "          0.05723691,  0.17132649, -0.2244092 ,  0.32227036,  0.22150788],\n",
              "        [ 0.11681491,  0.22169098,  0.26205423, -0.0841513 , -0.05110034,\n",
              "          0.16951147, -0.15657012, -0.2236372 ,  0.36712286,  0.19798496],\n",
              "        [-0.23686525,  0.06688008, -0.3685328 ,  0.1733847 , -0.28916106,\n",
              "         -0.07927027,  0.32184973,  0.21548757,  0.2428573 , -0.05320254],\n",
              "        [-0.28507647, -0.18104158, -0.3178432 , -0.10337201, -0.26933134,\n",
              "          0.00574845, -0.22037724,  0.29186746, -0.3344252 ,  0.32943103],\n",
              "        [-0.11802623,  0.10937053, -0.3078263 ,  0.25580987, -0.27348876,\n",
              "          0.24015495,  0.16462037, -0.2014639 ,  0.3084766 ,  0.3234118 ],\n",
              "        [ 0.09800681,  0.37346962, -0.18920743,  0.22409126, -0.1297328 ,\n",
              "          0.02012557,  0.14013168, -0.08584172, -0.09183511,  0.15717956],\n",
              "        [-0.19171403,  0.14646944, -0.13543719, -0.26560622, -0.24248537,\n",
              "         -0.30424738, -0.23370875,  0.00269952, -0.03199145, -0.02535981],\n",
              "        [-0.16294909,  0.15121022, -0.31187326, -0.16015223,  0.07918376,\n",
              "          0.30096963,  0.20573202,  0.37008336, -0.05031645,  0.27038512],\n",
              "        [ 0.32454458,  0.3380163 ,  0.0022679 , -0.19490504,  0.3118082 ,\n",
              "         -0.21885143,  0.21316311,  0.3304601 ,  0.17072508,  0.29981998],\n",
              "        [-0.14052925,  0.31771216,  0.09322789, -0.35415354,  0.01589391,\n",
              "         -0.18927753,  0.02107707, -0.25494793,  0.14685181, -0.26434255],\n",
              "        [ 0.04570478, -0.24848326,  0.27856848, -0.18389045, -0.2791942 ,\n",
              "         -0.25494018, -0.28342885, -0.2922169 ,  0.23768792,  0.06944174],\n",
              "        [-0.2308818 , -0.13425921,  0.32338932,  0.09144384, -0.07221437,\n",
              "          0.24529341,  0.33182254, -0.03770161, -0.29211813,  0.21721777],\n",
              "        [-0.1314164 ,  0.36642042, -0.23851821,  0.26591155,  0.05814922,\n",
              "          0.03116331, -0.1336295 , -0.25466067,  0.05346647,  0.22620687],\n",
              "        [ 0.00986999,  0.04204735,  0.27643093, -0.15276344,  0.10934412,\n",
              "         -0.2499714 ,  0.05824286,  0.03886929,  0.24216315,  0.3379052 ],\n",
              "        [-0.30586392, -0.18059237,  0.09101075, -0.1895823 ,  0.03992653,\n",
              "          0.13376638,  0.16848412, -0.3547009 ,  0.31631115,  0.29773834],\n",
              "        [-0.34001225, -0.11747193, -0.15798084, -0.23958912,  0.07737571,\n",
              "          0.12058923, -0.2156113 , -0.35914025, -0.08987296, -0.13024843],\n",
              "        [ 0.29450175,  0.09591168,  0.36092213, -0.29687202,  0.01481885,\n",
              "         -0.03014475, -0.23757473,  0.11472914,  0.3313388 , -0.1255444 ],\n",
              "        [-0.2431287 , -0.22976412,  0.07539898, -0.3074793 , -0.13098727,\n",
              "          0.0879139 , -0.06055996, -0.1693852 , -0.37311652,  0.05282485],\n",
              "        [-0.30793455,  0.21705642, -0.06891838,  0.14124522, -0.34921387,\n",
              "         -0.23200352,  0.2862586 , -0.28725353, -0.27782348, -0.08856469],\n",
              "        [-0.1753045 , -0.3128744 ,  0.29067335, -0.22917089,  0.04736209,\n",
              "         -0.36499414,  0.3739846 , -0.32351702, -0.2672862 , -0.2092591 ],\n",
              "        [ 0.01907906,  0.30229935,  0.21468553, -0.12206295, -0.1241335 ,\n",
              "          0.23142716,  0.29773286, -0.36130747, -0.23926716, -0.14866146],\n",
              "        [-0.10730529,  0.15196636, -0.04920778,  0.29410335, -0.08694193,\n",
              "          0.2412192 ,  0.36156347, -0.3188969 , -0.30855525,  0.33079025],\n",
              "        [-0.11404455,  0.14809033,  0.09650669, -0.25388873,  0.30488363,\n",
              "          0.00436988,  0.0216729 , -0.10738215, -0.3742635 ,  0.2969211 ],\n",
              "        [ 0.28774986, -0.18781914, -0.3143813 , -0.22867788, -0.3594406 ,\n",
              "          0.08319184, -0.22977717,  0.09633654,  0.19486901,  0.00307414]],\n",
              "       dtype=float32)>,\n",
              " <tf.Variable 'dense_1/bias:0' shape=(10,) dtype=float32, numpy=array([0., 0., 0., 0., 0., 0., 0., 0., 0., 0.], dtype=float32)>]"
            ]
          },
          "metadata": {},
          "execution_count": 17
        }
      ]
    },
    {
      "cell_type": "markdown",
      "source": [
        "You can also create a Sequential model by passing a list of layers to the Sequential constructor:"
      ],
      "metadata": {
        "id": "euz9tRwQjCfe"
      }
    },
    {
      "cell_type": "code",
      "source": [
        "model = Sequential(    \n",
        "    [\n",
        "     keras.Input(shape=(60)),   \n",
        "     layers.Dense(32, activation='relu'),\n",
        "     layers.Dense(10, activation='softmax')\n",
        "    ]\n",
        ")\n",
        "\n",
        "model.summary()\n",
        "\n",
        "# Get the list of layers in the model\n",
        "model.layers"
      ],
      "metadata": {
        "id": "AaBwBcsUjDv4",
        "outputId": "d2dc7700-fb5b-428c-eec7-b7eb4ded2f61",
        "colab": {
          "base_uri": "https://localhost:8080/"
        }
      },
      "execution_count": 18,
      "outputs": [
        {
          "output_type": "stream",
          "name": "stdout",
          "text": [
            "Model: \"sequential_1\"\n",
            "_________________________________________________________________\n",
            " Layer (type)                Output Shape              Param #   \n",
            "=================================================================\n",
            " dense_2 (Dense)             (None, 32)                1952      \n",
            "                                                                 \n",
            " dense_3 (Dense)             (None, 10)                330       \n",
            "                                                                 \n",
            "=================================================================\n",
            "Total params: 2,282\n",
            "Trainable params: 2,282\n",
            "Non-trainable params: 0\n",
            "_________________________________________________________________\n"
          ]
        },
        {
          "output_type": "execute_result",
          "data": {
            "text/plain": [
              "[<keras.layers.core.dense.Dense at 0x7f4f52efd2b0>,\n",
              " <keras.layers.core.dense.Dense at 0x7f4f52efd880>]"
            ]
          },
          "metadata": {},
          "execution_count": 18
        }
      ]
    },
    {
      "cell_type": "markdown",
      "source": [
        "**Question**: \n",
        "1. how many hidden layers does this model have?\n",
        "\n",
        "2. how to compute the total number of parameters or weights? \n",
        "(Remeber to add the parameters for bias)\n",
        "\n",
        "\n",
        "Once create the model, you can start training and validating the model. https://keras.io/guides/training_with_built_in_methods/"
      ],
      "metadata": {
        "id": "1uSOhe10jqr0"
      }
    },
    {
      "cell_type": "code",
      "metadata": {
        "id": "hEl2wlGss0MF"
      },
      "source": [
        "optimizer = keras.optimizers.SGD(learning_rate=0.01)\n",
        "#optimizer = keras.optimizers.Adam(learning_rate=0.001)\n",
        "model.compile(optimizer=optimizer, loss='categorical_crossentropy', metrics=['accuracy'])"
      ],
      "execution_count": 19,
      "outputs": []
    },
    {
      "cell_type": "markdown",
      "metadata": {
        "id": "R5_pmbSms0MG"
      },
      "source": [
        "## Training\n",
        "\n",
        "We've also told the compiler that we'd like it to compute accuracy for us during training (since categorical cross-entropy loss is a bit hard to interpret).\n",
        "\n",
        "We're now ready to start training using the fit() method:\n",
        "- The **batch size** to use within each epoch of mini-batch gradient descent: the number of training examples considered to compute the gradients for one weight update step.\n",
        "- The number of **epochs** to train for: how many times the training loop should iterate over the data passed. "
      ]
    },
    {
      "cell_type": "markdown",
      "source": [],
      "metadata": {
        "id": "LrbqJ2C8bt18"
      }
    },
    {
      "cell_type": "code",
      "metadata": {
        "id": "KCLOxVQ4s0MH",
        "outputId": "21db33a6-e32b-416f-e46a-ab437c2dc1c4",
        "colab": {
          "base_uri": "https://localhost:8080/"
        }
      },
      "source": [
        "# Train the model, iterating on the data in batches of 32 samples\n",
        "history = model.fit(X_train, y_train, epochs=5, batch_size=1000);"
      ],
      "execution_count": 20,
      "outputs": [
        {
          "output_type": "stream",
          "name": "stdout",
          "text": [
            "Epoch 1/5\n",
            "60/60 [==============================] - 1s 3ms/step - loss: 2.3453 - accuracy: 0.1798\n",
            "Epoch 2/5\n",
            "60/60 [==============================] - 0s 3ms/step - loss: 1.9727 - accuracy: 0.3383\n",
            "Epoch 3/5\n",
            "60/60 [==============================] - 0s 3ms/step - loss: 1.7202 - accuracy: 0.4580\n",
            "Epoch 4/5\n",
            "60/60 [==============================] - 0s 3ms/step - loss: 1.5337 - accuracy: 0.5217\n",
            "Epoch 5/5\n",
            "60/60 [==============================] - 0s 3ms/step - loss: 1.3857 - accuracy: 0.5796\n"
          ]
        }
      ]
    },
    {
      "cell_type": "markdown",
      "source": [
        "## Validating##\n",
        "A deep learning model should never be evaluated on its training data alone - it’s standard practice to use a validation set to monitor the accuracy (or other performance metric) of the model during training. Here, we randomly set apart 10% of training samples from the original training data for validation using validation_split argument in fit() method. Usually, we create a validation set separately, and set \"validation_data\" in fit(). For more details on keras model training api, check https://keras.io/api/models/model_training_apis/"
      ],
      "metadata": {
        "id": "Cj4fU6J0gNz4"
      }
    },
    {
      "cell_type": "markdown",
      "source": [
        "The call to fit() returns a **History** object. This object contains a history field, which is a dict mapping keys such as \"loss\" or specific metric names to the list of their per-epoch values."
      ],
      "metadata": {
        "id": "-cphMmVcc4P-"
      }
    },
    {
      "cell_type": "code",
      "source": [
        "history = model.fit(X_train, y_train, validation_split=0.1, epochs=5, batch_size=1000);"
      ],
      "metadata": {
        "id": "WHS9LVFrhPxp",
        "outputId": "9453322d-5747-4873-842a-ae8832d4d2f1",
        "colab": {
          "base_uri": "https://localhost:8080/"
        }
      },
      "execution_count": 21,
      "outputs": [
        {
          "output_type": "stream",
          "name": "stdout",
          "text": [
            "Epoch 1/5\n",
            "54/54 [==============================] - 1s 13ms/step - loss: 1.2738 - accuracy: 0.6232 - val_loss: 1.1664 - val_accuracy: 0.6725\n",
            "Epoch 2/5\n",
            "54/54 [==============================] - 0s 4ms/step - loss: 1.1792 - accuracy: 0.6610 - val_loss: 1.0738 - val_accuracy: 0.7123\n",
            "Epoch 3/5\n",
            "54/54 [==============================] - 0s 4ms/step - loss: 1.0968 - accuracy: 0.6935 - val_loss: 0.9927 - val_accuracy: 0.7443\n",
            "Epoch 4/5\n",
            "54/54 [==============================] - 0s 4ms/step - loss: 1.0246 - accuracy: 0.7211 - val_loss: 0.9215 - val_accuracy: 0.7723\n",
            "Epoch 5/5\n",
            "54/54 [==============================] - 0s 4ms/step - loss: 0.9612 - accuracy: 0.7417 - val_loss: 0.8591 - val_accuracy: 0.7922\n"
          ]
        }
      ]
    },
    {
      "cell_type": "code",
      "source": [
        "# Consider increase the number of epochs if the model loss or traininng performance is not good enough or not converged\n",
        "history = model.fit(X_train, y_train, validation_split=0.1, epochs=8, batch_size=1000);"
      ],
      "metadata": {
        "id": "5JfQdrvJkDFk",
        "outputId": "0d7cb097-02e6-4e5e-e4c2-159e5fcee19c",
        "colab": {
          "base_uri": "https://localhost:8080/"
        }
      },
      "execution_count": 22,
      "outputs": [
        {
          "output_type": "stream",
          "name": "stdout",
          "text": [
            "Epoch 1/8\n",
            "54/54 [==============================] - 1s 9ms/step - loss: 0.9055 - accuracy: 0.7594 - val_loss: 0.8043 - val_accuracy: 0.8072\n",
            "Epoch 2/8\n",
            "54/54 [==============================] - 0s 9ms/step - loss: 0.8563 - accuracy: 0.7732 - val_loss: 0.7560 - val_accuracy: 0.8208\n",
            "Epoch 3/8\n",
            "54/54 [==============================] - 0s 5ms/step - loss: 0.8129 - accuracy: 0.7848 - val_loss: 0.7136 - val_accuracy: 0.8305\n",
            "Epoch 4/8\n",
            "54/54 [==============================] - 0s 4ms/step - loss: 0.7746 - accuracy: 0.7956 - val_loss: 0.6762 - val_accuracy: 0.8393\n",
            "Epoch 5/8\n",
            "54/54 [==============================] - 0s 4ms/step - loss: 0.7406 - accuracy: 0.8039 - val_loss: 0.6432 - val_accuracy: 0.8473\n",
            "Epoch 6/8\n",
            "54/54 [==============================] - 0s 4ms/step - loss: 0.7104 - accuracy: 0.8118 - val_loss: 0.6139 - val_accuracy: 0.8528\n",
            "Epoch 7/8\n",
            "54/54 [==============================] - 0s 4ms/step - loss: 0.6834 - accuracy: 0.8185 - val_loss: 0.5879 - val_accuracy: 0.8580\n",
            "Epoch 8/8\n",
            "54/54 [==============================] - 0s 4ms/step - loss: 0.6593 - accuracy: 0.8242 - val_loss: 0.5647 - val_accuracy: 0.8628\n"
          ]
        }
      ]
    },
    {
      "cell_type": "code",
      "source": [
        "history.history.keys()"
      ],
      "metadata": {
        "id": "HFtkwMFnmOBp",
        "outputId": "ca104e3c-9c44-45cf-eb1f-50542ee3b74e",
        "colab": {
          "base_uri": "https://localhost:8080/"
        }
      },
      "execution_count": 23,
      "outputs": [
        {
          "output_type": "execute_result",
          "data": {
            "text/plain": [
              "dict_keys(['loss', 'accuracy', 'val_loss', 'val_accuracy'])"
            ]
          },
          "metadata": {},
          "execution_count": 23
        }
      ]
    },
    {
      "cell_type": "code",
      "source": [
        "history.history"
      ],
      "metadata": {
        "id": "ikp6yjC6c6Wz",
        "outputId": "fb8199a8-5b91-4342-eb72-a20379fd12cc",
        "colab": {
          "base_uri": "https://localhost:8080/"
        }
      },
      "execution_count": 24,
      "outputs": [
        {
          "output_type": "execute_result",
          "data": {
            "text/plain": [
              "{'loss': [0.9054688215255737,\n",
              "  0.8563163876533508,\n",
              "  0.812929630279541,\n",
              "  0.7745576500892639,\n",
              "  0.7405665516853333,\n",
              "  0.7103808522224426,\n",
              "  0.6834393739700317,\n",
              "  0.6593080163002014],\n",
              " 'accuracy': [0.7594444155693054,\n",
              "  0.7732037305831909,\n",
              "  0.7847777605056763,\n",
              "  0.7955740690231323,\n",
              "  0.8039073944091797,\n",
              "  0.8118148446083069,\n",
              "  0.8184999823570251,\n",
              "  0.824222207069397],\n",
              " 'val_loss': [0.8042818903923035,\n",
              "  0.7560119032859802,\n",
              "  0.7135865092277527,\n",
              "  0.6761692762374878,\n",
              "  0.6431562304496765,\n",
              "  0.6139312982559204,\n",
              "  0.5879326462745667,\n",
              "  0.5647380948066711],\n",
              " 'val_accuracy': [0.8071666955947876,\n",
              "  0.8208333253860474,\n",
              "  0.8305000066757202,\n",
              "  0.8393333554267883,\n",
              "  0.8473333120346069,\n",
              "  0.8528333306312561,\n",
              "  0.8579999804496765,\n",
              "  0.8628333210945129]}"
            ]
          },
          "metadata": {},
          "execution_count": 24
        }
      ]
    },
    {
      "cell_type": "code",
      "source": [
        "# Plotting the training and validation loss\n",
        "import matplotlib.pyplot as plt\n",
        "history_dict = history.history\n",
        "loss_values = history_dict[\"loss\"]\n",
        "val_loss_values = history_dict[\"val_loss\"]\n",
        "epochs = range(1, len(loss_values) + 1)\n",
        "plt.plot(epochs, loss_values, \"bo\", label=\"Training loss\")\n",
        "plt.plot(epochs, val_loss_values, \"b\", label=\"Validation loss\")\n",
        "plt.title(\"Training and validation loss\")\n",
        "plt.xlabel(\"Epochs\")\n",
        "plt.ylabel(\"Loss\")\n",
        "plt.legend()\n",
        "plt.show()"
      ],
      "metadata": {
        "id": "OQiTm4UOkcUC",
        "outputId": "9eb021b8-51c4-4919-935f-1c1513281a18",
        "colab": {
          "base_uri": "https://localhost:8080/",
          "height": 295
        }
      },
      "execution_count": 25,
      "outputs": [
        {
          "output_type": "display_data",
          "data": {
            "text/plain": [
              "<Figure size 432x288 with 1 Axes>"
            ],
            "image/png": "[encoded data removed]"
          },
          "metadata": {
            "needs_background": "light"
          }
        }
      ]
    },
    {
      "cell_type": "code",
      "source": [
        "# Plotting the training and validation accuracy\n",
        "# Your code here:\n",
        "# \n",
        "import matplotlib.pyplot as plt\n",
        "history_dict = history.history\n",
        "loss_values = history_dict[\"accuracy\"]\n",
        "val_loss_values = history_dict[\"val_accuracy\"]\n",
        "epochs = range(1, len(loss_values) + 1)\n",
        "plt.plot(epochs, loss_values, \"bo\", label=\"Training accuracy\")\n",
        "plt.plot(epochs, val_loss_values, \"b\", label=\"Validation accuracy\")\n",
        "plt.title(\"Training and validation accuracy\")\n",
        "plt.xlabel(\"Epochs\")\n",
        "plt.ylabel(\"Accuracy\")\n",
        "plt.legend()\n",
        "plt.show()\n"
      ],
      "metadata": {
        "id": "4viP9LZTm2NZ",
        "outputId": "3c97cd37-bb73-4803-e074-1c16293a2e3f",
        "colab": {
          "base_uri": "https://localhost:8080/",
          "height": 295
        }
      },
      "execution_count": 26,
      "outputs": [
        {
          "output_type": "display_data",
          "data": {
            "text/plain": [
              "<Figure size 432x288 with 1 Axes>"
            ],
            "image/png": "[encoded data removed]"
          },
          "metadata": {
            "needs_background": "light"
          }
        }
      ]
    },
    {
      "cell_type": "code",
      "source": [
        "# After the model training is complete\n",
        "# evaluate the model \n",
        "results = model.evaluate(X_test, y_test)\n",
        "print(\"test loss, test acc:\", results)\n",
        "\n",
        "accuracy = model.evaluate(X_test, y_test)\n",
        "#print('Accuracy: %.2f' % (accuracy*100))"
      ],
      "metadata": {
        "id": "UWqDHBapkRxu",
        "outputId": "266214fc-640a-479a-c47a-474ed48a42f3",
        "colab": {
          "base_uri": "https://localhost:8080/"
        }
      },
      "execution_count": 29,
      "outputs": [
        {
          "output_type": "stream",
          "name": "stdout",
          "text": [
            "313/313 [==============================] - 1s 2ms/step - loss: 0.6209 - accuracy: 0.8369\n",
            "test loss, test acc: [0.6208756566047668, 0.836899995803833]\n",
            "313/313 [==============================] - 1s 2ms/step - loss: 0.6209 - accuracy: 0.8369\n"
          ]
        }
      ]
    },
    {
      "cell_type": "markdown",
      "source": [
        "##Inference##\n",
        "To make predictions using a trained model "
      ],
      "metadata": {
        "id": "3WgFgXDgd__W"
      }
    },
    {
      "cell_type": "code",
      "metadata": {
        "id": "VwaE0ysss0MH",
        "outputId": "d0067534-0cd7-4a47-95f5-4bd3e3a90933",
        "colab": {
          "base_uri": "https://localhost:8080/"
        }
      },
      "source": [
        "# To make predictions and get the confusion matrix\n",
        "# model.predict will generate probability for all 10 digits, \n",
        "#    so we use argmax to pick the class with the highest probability\n",
        "from sklearn import metrics\n",
        "y_pred = model.predict(X_test)\n",
        "print(y_pred[0]) # print the prediction for first image\n",
        "\n",
        "print('\\nConfusion matrix: ')\n",
        "matrix = metrics.confusion_matrix(y_test.argmax(axis=1), y_pred.argmax(axis=1))\n",
        "print(matrix)\n",
        "\n",
        "print('\\nClassification report: ')\n",
        "print(metrics.classification_report(y_test.argmax(axis=1), y_pred.argmax(axis=1)))"
      ],
      "execution_count": 30,
      "outputs": [
        {
          "output_type": "stream",
          "name": "stdout",
          "text": [
            "313/313 [==============================] - 2s 3ms/step\n",
            "[7.8747311e-04 6.3845422e-04 4.1201054e-03 5.4654665e-03 1.5369375e-03\n",
            " 5.7737867e-04 6.5006847e-05 9.7305638e-01 8.1909361e-04 1.2933725e-02]\n",
            "\n",
            "Confusion matrix: \n",
            "[[ 905    0    2   18    2   29   17    1    5    1]\n",
            " [   0 1106    7    5    0    1    4    0   12    0]\n",
            " [  28   48  805   40   19    0   32   27   28    5]\n",
            " [   7   23   50  804    4   33   12   22   41   14]\n",
            " [   1   14   13    0  838    2   30    7    6   71]\n",
            " [  13   20   19   91   43  612   39    6   25   24]\n",
            " [  15    8   13    0   24   20  875    2    1    0]\n",
            " [   3   41   27    1   14    2    2  885    3   50]\n",
            " [  14   31   39   64   23   42   28    9  690   34]\n",
            " [  15   20    9   13   44    8    4   38    9  849]]\n",
            "\n",
            "Classification report: \n",
            "              precision    recall  f1-score   support\n",
            "\n",
            "           0       0.90      0.92      0.91       980\n",
            "           1       0.84      0.97      0.90      1135\n",
            "           2       0.82      0.78      0.80      1032\n",
            "           3       0.78      0.80      0.79      1010\n",
            "           4       0.83      0.85      0.84       982\n",
            "           5       0.82      0.69      0.75       892\n",
            "           6       0.84      0.91      0.87       958\n",
            "           7       0.89      0.86      0.87      1028\n",
            "           8       0.84      0.71      0.77       974\n",
            "           9       0.81      0.84      0.83      1009\n",
            "\n",
            "    accuracy                           0.84     10000\n",
            "   macro avg       0.84      0.83      0.83     10000\n",
            "weighted avg       0.84      0.84      0.83     10000\n",
            "\n"
          ]
        }
      ]
    },
    {
      "cell_type": "markdown",
      "metadata": {
        "id": "rBdSC5gDs0MI"
      },
      "source": [
        "### Tasks\n",
        "\n",
        "As you now have a model to play with (in no particular order):\n",
        "\n",
        "1. Change the `learning-rate` for the optimiser.\n",
        "2. Change the ```batch_size``` to e.g. 1 or 1000 (and see how learning rate deals with larger/smaller batch sizes).\n",
        "3. Change the optimiser: from SGD to Adam\n",
        "4. Add complexity to the model, being mindful of how \"powerful\" your computers are.\n",
        "\n",
        "7. Try and find a sweet-spot between the size and performance of the model, take into account things like the number of iterations/epochs required to train the model in these assumptions.\n",
        "\n",
        "6. Do you get the exact same results if you run the Notebook multiple times without changing any parameters? Why or why not?\n",
        "\n",
        "5. Do you think these changes will have the same effect (if any) on other classifiers?\n",
        "\n",
        "8. Investigate **effect of dimensionality reduction** (with PCA, e.g. you may try to build the model without PCA and compare ...)\n",
        "\n",
        "9. Try out some **other ML classifiers** that have been discussed in the class, e.g. kNN (with scikit-learn) "
      ]
    },
    {
      "cell_type": "code",
      "metadata": {
        "collapsed": true,
        "id": "La9Ah0Qms0MI",
        "outputId": "7bfd223d-887f-4b6e-fb0c-1cc783f64418",
        "colab": {
          "base_uri": "https://localhost:8080/",
          "height": 645
        }
      },
      "source": [
        "# Your code\n",
        "#\n",
        "#\n",
        "import numpy as np\n",
        "from keras.callbacks import LearningRateScheduler\n",
        "from keras import layers\n",
        "from keras.layers import Activation, Dense\n",
        "from tensorflow.keras.optimizers import SGD, Adam\n",
        "\n",
        "###########################################\n",
        "# DEFINE A STEPPED LEARNING RATE SCHEDULE #\n",
        "###########################################\n",
        "\n",
        "lr_sched = LearningRateScheduler(lambda epoch: 1e-4 * (0.75 ** np.floor(epoch / 2)))\n",
        "\n",
        "# Build the model.\n",
        "clf = Sequential()\n",
        "clf.add(Dense(9, activation='relu', input_dim=3))\n",
        "clf.add(Dense(9, activation='relu'))\n",
        "clf.add(Dense(3, activation='softmax'))\n",
        "clf.compile(loss='categorical_crossentropy', optimizer=SGD())\n",
        "clf.compile(loss='categorical_crossentropy', optimizer=Adam())\n",
        "\n",
        "# Perform training.\n",
        "clf.fit(X_train, y_train, epochs=10, batch_size=3, callbacks=[lr_sched])\n",
        "\n"
      ],
      "execution_count": 39,
      "outputs": [
        {
          "output_type": "stream",
          "name": "stdout",
          "text": [
            "Epoch 1/10\n"
          ]
        },
        {
          "output_type": "error",
          "ename": "ValueError",
          "evalue": "ignored",
          "traceback": [
            "\u001b[0;31m---------------------------------------------------------------------------\u001b[0m",
            "\u001b[0;31mValueError\u001b[0m                                Traceback (most recent call last)",
            "\u001b[0;32m<ipython-input-39-3e7daf2dd6f2>\u001b[0m in \u001b[0;36m<module>\u001b[0;34m\u001b[0m\n\u001b[1;32m     23\u001b[0m \u001b[0;34m\u001b[0m\u001b[0m\n\u001b[1;32m     24\u001b[0m \u001b[0;31m# Perform training.\u001b[0m\u001b[0;34m\u001b[0m\u001b[0;34m\u001b[0m\u001b[0;34m\u001b[0m\u001b[0m\n\u001b[0;32m---> 25\u001b[0;31m \u001b[0mclf\u001b[0m\u001b[0;34m.\u001b[0m\u001b[0mfit\u001b[0m\u001b[0;34m(\u001b[0m\u001b[0mX_train\u001b[0m\u001b[0;34m,\u001b[0m \u001b[0my_train\u001b[0m\u001b[0;34m,\u001b[0m \u001b[0mepochs\u001b[0m\u001b[0;34m=\u001b[0m\u001b[0;36m10\u001b[0m\u001b[0;34m,\u001b[0m \u001b[0mbatch_size\u001b[0m\u001b[0;34m=\u001b[0m\u001b[0;36m3\u001b[0m\u001b[0;34m,\u001b[0m \u001b[0mcallbacks\u001b[0m\u001b[0;34m=\u001b[0m\u001b[0;34m[\u001b[0m\u001b[0mlr_sched\u001b[0m\u001b[0;34m]\u001b[0m\u001b[0;34m)\u001b[0m\u001b[0;34m\u001b[0m\u001b[0;34m\u001b[0m\u001b[0m\n\u001b[0m\u001b[1;32m     26\u001b[0m \u001b[0;34m\u001b[0m\u001b[0m\n",
            "\u001b[0;32m/usr/local/lib/python3.8/dist-packages/keras/utils/traceback_utils.py\u001b[0m in \u001b[0;36merror_handler\u001b[0;34m(*args, **kwargs)\u001b[0m\n\u001b[1;32m     68\u001b[0m             \u001b[0;31m# To get the full stack trace, call:\u001b[0m\u001b[0;34m\u001b[0m\u001b[0;34m\u001b[0m\u001b[0;34m\u001b[0m\u001b[0m\n\u001b[1;32m     69\u001b[0m             \u001b[0;31m# `tf.debugging.disable_traceback_filtering()`\u001b[0m\u001b[0;34m\u001b[0m\u001b[0;34m\u001b[0m\u001b[0;34m\u001b[0m\u001b[0m\n\u001b[0;32m---> 70\u001b[0;31m             \u001b[0;32mraise\u001b[0m \u001b[0me\u001b[0m\u001b[0;34m.\u001b[0m\u001b[0mwith_traceback\u001b[0m\u001b[0;34m(\u001b[0m\u001b[0mfiltered_tb\u001b[0m\u001b[0;34m)\u001b[0m \u001b[0;32mfrom\u001b[0m \u001b[0;32mNone\u001b[0m\u001b[0;34m\u001b[0m\u001b[0;34m\u001b[0m\u001b[0m\n\u001b[0m\u001b[1;32m     71\u001b[0m         \u001b[0;32mfinally\u001b[0m\u001b[0;34m:\u001b[0m\u001b[0;34m\u001b[0m\u001b[0;34m\u001b[0m\u001b[0m\n\u001b[1;32m     72\u001b[0m             \u001b[0;32mdel\u001b[0m \u001b[0mfiltered_tb\u001b[0m\u001b[0;34m\u001b[0m\u001b[0;34m\u001b[0m\u001b[0m\n",
            "\u001b[0;32m/usr/local/lib/python3.8/dist-packages/keras/engine/training.py\u001b[0m in \u001b[0;36mtf__train_function\u001b[0;34m(iterator)\u001b[0m\n\u001b[1;32m     13\u001b[0m                 \u001b[0;32mtry\u001b[0m\u001b[0;34m:\u001b[0m\u001b[0;34m\u001b[0m\u001b[0;34m\u001b[0m\u001b[0m\n\u001b[1;32m     14\u001b[0m                     \u001b[0mdo_return\u001b[0m \u001b[0;34m=\u001b[0m \u001b[0;32mTrue\u001b[0m\u001b[0;34m\u001b[0m\u001b[0;34m\u001b[0m\u001b[0m\n\u001b[0;32m---> 15\u001b[0;31m                     \u001b[0mretval_\u001b[0m \u001b[0;34m=\u001b[0m \u001b[0mag__\u001b[0m\u001b[0;34m.\u001b[0m\u001b[0mconverted_call\u001b[0m\u001b[0;34m(\u001b[0m\u001b[0mag__\u001b[0m\u001b[0;34m.\u001b[0m\u001b[0mld\u001b[0m\u001b[0;34m(\u001b[0m\u001b[0mstep_function\u001b[0m\u001b[0;34m)\u001b[0m\u001b[0;34m,\u001b[0m \u001b[0;34m(\u001b[0m\u001b[0mag__\u001b[0m\u001b[0;34m.\u001b[0m\u001b[0mld\u001b[0m\u001b[0;34m(\u001b[0m\u001b[0mself\u001b[0m\u001b[0;34m)\u001b[0m\u001b[0;34m,\u001b[0m \u001b[0mag__\u001b[0m\u001b[0;34m.\u001b[0m\u001b[0mld\u001b[0m\u001b[0;34m(\u001b[0m\u001b[0miterator\u001b[0m\u001b[0;34m)\u001b[0m\u001b[0;34m)\u001b[0m\u001b[0;34m,\u001b[0m \u001b[0;32mNone\u001b[0m\u001b[0;34m,\u001b[0m \u001b[0mfscope\u001b[0m\u001b[0;34m)\u001b[0m\u001b[0;34m\u001b[0m\u001b[0;34m\u001b[0m\u001b[0m\n\u001b[0m\u001b[1;32m     16\u001b[0m                 \u001b[0;32mexcept\u001b[0m\u001b[0;34m:\u001b[0m\u001b[0;34m\u001b[0m\u001b[0;34m\u001b[0m\u001b[0m\n\u001b[1;32m     17\u001b[0m                     \u001b[0mdo_return\u001b[0m \u001b[0;34m=\u001b[0m \u001b[0;32mFalse\u001b[0m\u001b[0;34m\u001b[0m\u001b[0;34m\u001b[0m\u001b[0m\n",
            "\u001b[0;31mValueError\u001b[0m: in user code:\n\n    File \"/usr/local/lib/python3.8/dist-packages/keras/engine/training.py\", line 1249, in train_function  *\n        return step_function(self, iterator)\n    File \"/usr/local/lib/python3.8/dist-packages/keras/engine/training.py\", line 1233, in step_function  **\n        outputs = model.distribute_strategy.run(run_step, args=(data,))\n    File \"/usr/local/lib/python3.8/dist-packages/keras/engine/training.py\", line 1222, in run_step  **\n        outputs = model.train_step(data)\n    File \"/usr/local/lib/python3.8/dist-packages/keras/engine/training.py\", line 1023, in train_step\n        y_pred = self(x, training=True)\n    File \"/usr/local/lib/python3.8/dist-packages/keras/utils/traceback_utils.py\", line 70, in error_handler\n        raise e.with_traceback(filtered_tb) from None\n    File \"/usr/local/lib/python3.8/dist-packages/keras/engine/input_spec.py\", line 295, in assert_input_compatibility\n        raise ValueError(\n\n    ValueError: Input 0 of layer \"sequential_10\" is incompatible with the layer: expected shape=(None, 3), found shape=(3, 60)\n"
          ]
        }
      ]
    }
  ]
}